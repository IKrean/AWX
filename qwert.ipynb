{
 "cells": [
  {
   "cell_type": "markdown",
   "metadata": {},
   "source": [
    "# ——————————— AWX-Start —————————————\n",
    "# ——————————— GIT-Commands ———————————\n",
    "# ——————————— PostgresSQL —————————————"
   ]
  }
 ],
 "metadata": {
  "language_info": {
   "name": "python"
  }
 },
 "nbformat": 4,
 "nbformat_minor": 2
}
