{
 "cells": [
  {
   "cell_type": "markdown",
   "metadata": {},
   "source": [
    "# AWX_Run"
   ]
  },
  {
   "cell_type": "code",
   "execution_count": null,
   "metadata": {
    "vscode": {
     "languageId": "plaintext"
    }
   },
   "outputs": [],
   "source": [
    "minikube start --cpus=2 --memory=2200mb --addons=ingress\n",
    "\n",
    "minikube start --cpus=4 --memory=6g --addons=ingress\n",
    "\n",
    "alias kubectl=\"minikube kubectl --\"\n",
    "\n",
    "kubectl config set-context --current --namespace=awx\n",
    "\n",
    "kubectl get pods\n",
    "\n",
    "kubectl port-forward svc/awx-service --address 0.0.0.0 8080:80 &> /dev/null &\n",
    "\n",
    "kubectl get secret awx-admin-password -o jsonpath=sudo \"{.data.password}\" | base64 --decode; echo\n",
    "\n",
    "kubectl get secret --namespace awx awx-admin-password -o jsonpath=\"{.data.password}\" | base64 --decode\n",
    "\n",
    "kubectl logs -f deployments/awx-operator-controller-manager -c awx-manager"
   ]
  }
 ],
 "metadata": {
  "language_info": {
   "name": "python"
  }
 },
 "nbformat": 4,
 "nbformat_minor": 2
}
