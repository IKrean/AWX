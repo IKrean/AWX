{
 "cells": [
  {
   "cell_type": "markdown",
   "metadata": {},
   "source": [
    "# Docker"
   ]
  },
  {
   "cell_type": "code",
   "execution_count": null,
   "metadata": {
    "vscode": {
     "languageId": "shellscript"
    }
   },
   "outputs": [],
   "source": [
    "\n",
    "docker ps (show run container)\n",
    "docker ps -a (show all container)\n",
    "____________________________________________________________________________________\n",
    "\n",
    "docker run -it <busybox> (create and run container and open bush)\n",
    "docker stop (kill container)\n",
    "docker container prune (remove all containers)\n",
    "____________________________________________________________________________________\n",
    "\n",
    "docker run -d <nginx> (create and run container in background)\n",
    "\n"
   ]
  }
 ],
 "metadata": {
  "language_info": {
   "name": "python"
  }
 },
 "nbformat": 4,
 "nbformat_minor": 2
}
