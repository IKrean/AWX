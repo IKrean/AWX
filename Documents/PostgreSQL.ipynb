{
 "cells": [
  {
   "cell_type": "markdown",
   "metadata": {},
   "source": [
    "# PostgreSQL"
   ]
  },
  {
   "cell_type": "markdown",
   "metadata": {},
   "source": [
    "### Create table"
   ]
  },
  {
   "cell_type": "code",
   "execution_count": null,
   "metadata": {
    "vscode": {
     "languageId": "sql"
    }
   },
   "outputs": [],
   "source": [
    "CREATE TABLE <name_table> (\n",
    "    id BIGINT NOT NULL PRIMARY KEY,\n",
    "    <name_columns> VARCHAR(64) NOT NULL,\n",
    "    last_name VARCHAR(64) NOT NULL,\n",
    "    email VARCHAR(128) NOT NULL\n",
    ");\n",
    "____________________________________________________________________________________\n",
    "\n",
    "//FOREIGN KEY//\n",
    "\n",
    "CREATE TABLE spendings (\n",
    "    id BIGINT NOT NULL PRIMARY KEY,\n",
    "    price INT NOT NULL,\n",
    "    created_at TIMESTAMP DEFAULT now(),\n",
    "\tuser_id BIGINT NOT NULL,\n",
    "\n",
    "\tCONSTRAINT user_id_fk FOREIGN KEY (user_id) REFERENCES users (id)\n",
    ");"
   ]
  },
  {
   "cell_type": "markdown",
   "metadata": {},
   "source": [
    "### Adding user data"
   ]
  },
  {
   "cell_type": "code",
   "execution_count": null,
   "metadata": {
    "vscode": {
     "languageId": "sql"
    }
   },
   "outputs": [],
   "source": [
    "INSERT INTO users (id, first_name, last_name, email)\n",
    "    INSERT INTO <name_table> (name_columns)\n",
    "    \n",
    "VALUES (1, 'Jan', 'Kowalski', 'kowalski@gmail.com');\n",
    "    VALUES < (input information) >"
   ]
  },
  {
   "cell_type": "markdown",
   "metadata": {},
   "source": [
    "### Edit user data"
   ]
  },
  {
   "cell_type": "code",
   "execution_count": null,
   "metadata": {
    "vscode": {
     "languageId": "sql"
    }
   },
   "outputs": [],
   "source": [
    "UPDATE <name_table> SET\n",
    "email = 'mickiewicz@gmail.com', first_name = 'Adam', last_name = 'Mickiewicz'\n",
    "    <name_columns> = < 'What you went edit' >\n",
    "WHERE id = 1"
   ]
  },
  {
   "cell_type": "markdown",
   "metadata": {},
   "source": [
    "### Delete row on table"
   ]
  },
  {
   "cell_type": "code",
   "execution_count": null,
   "metadata": {
    "vscode": {
     "languageId": "sql"
    }
   },
   "outputs": [],
   "source": [
    "DELETE FROM <name_table>\n",
    "WHERE id = 2 OR id =3"
   ]
  },
  {
   "cell_type": "markdown",
   "metadata": {},
   "source": [
    "### Show user data"
   ]
  },
  {
   "cell_type": "code",
   "execution_count": null,
   "metadata": {
    "vscode": {
     "languageId": "sql"
    }
   },
   "outputs": [],
   "source": [
    "SELECT id, first_name, last_name, email FROM users\n",
    "    SELECT <the column from which you want to get information> FROM <name_table>\n",
    "WHERE id = 1\n",
    "____________________________________________________________________________________\n",
    "\n",
    "//Inner Join//\n",
    "\n",
    "SELECT spendings.*, users.first_name FROM spendings\n",
    "    SELECT < * it is all table > FROM <name_table>\n",
    "INNER JOIN users ON users.id = spendings.user_id\n",
    "    INNER JOIN <name_table> ON <name_table.name_columns> = <name_table.name_columns>\n",
    "____________________________________________________________________________________\n",
    "\n",
    "//Left outer Join or Right outer Join//\n",
    "\n",
    "SELECT spendings.*, users.first_name FROM spendings\n",
    "    SELECT < * it is all table > FROM <name_table>\n",
    "LEFT / RIGHT OUTER JOIN users ON users.id = spendings.user_id\n",
    "    LEFT / RIGHT OUTER JOIN <name_table> ON <name_table.name_columns> = <name_table.name_columns>\n",
    "____________________________________________________________________________________\n",
    "\n",
    "//Function SUM//\n",
    "\n",
    "SELECT SUM(price) FROM spendings\n",
    "GROUP BY user_id\n",
    "____________________________________________________________________________________\n",
    "\n",
    "SELECT users.*, SUM(spendings.price) FROM users\n",
    "JOIN spendings ON users.id = spendings.user_id\n",
    "GROUP BY users.id, spendings.user_id\n",
    "HAVING SUM(spendings.price) > 1000000"
   ]
  },
  {
   "cell_type": "code",
   "execution_count": null,
   "metadata": {
    "vscode": {
     "languageId": "sql"
    }
   },
   "outputs": [],
   "source": [
    "sudo systemctl status postgresql (checking postgresSQL status)\n",
    "sudo -i -u postgres (switch on postgres user)\n",
    "psql (opne console postgres)\n",
    "\\l (list of databases)\n",
    "\\q (exit)\n",
    "\\du (list of roles)\n",
    "dropdb <name_database> (delete database)\n",
    "ALTER USER <name_user> WITH PASSWORD '<new_password>'; (change password)\n",
    "CREATE USER <name_user> WITH PASSWORD '<new_password>'; (create new user)\n",
    "ALTER USER <name_user> WITH SUPERUSER: (grant superuser rights)\n",
    "DROP USER <name_user>;"
   ]
  }
 ],
 "metadata": {
  "language_info": {
   "name": "python"
  }
 },
 "nbformat": 4,
 "nbformat_minor": 2
}
