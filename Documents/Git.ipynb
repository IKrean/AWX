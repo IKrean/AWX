{
 "cells": [
  {
   "cell_type": "markdown",
   "metadata": {},
   "source": [
    "# GIT_Commands"
   ]
  },
  {
   "cell_type": "code",
   "execution_count": null,
   "metadata": {
    "vscode": {
     "languageId": "powershell"
    }
   },
   "outputs": [],
   "source": [
    "git clone <https://github.com/....> (download repo. whith GitHub on PC)\n",
    "    git branch <name_branch> (create branch)\n",
    "    \n",
    "git checkout <name_branch> (switch on branch)\n",
    "    git merge <name_branch> (unite branch whith 'MASTER' or 'MAIN')"
   ]
  },
  {
   "cell_type": "markdown",
   "metadata": {},
   "source": [
    "Main commands"
   ]
  },
  {
   "cell_type": "code",
   "execution_count": null,
   "metadata": {
    "vscode": {
     "languageId": "powershell"
    }
   },
   "outputs": [],
   "source": [
    "git add .\n",
    "\n",
    "git commit -m \"edit master 1.0.0.0.1\"\n",
    "\n",
    "git push"
   ]
  }
 ],
 "metadata": {
  "language_info": {
   "name": "python"
  }
 },
 "nbformat": 4,
 "nbformat_minor": 2
}
