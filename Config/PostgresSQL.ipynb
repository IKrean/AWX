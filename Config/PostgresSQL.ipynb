{
 "cells": [
  {
   "cell_type": "markdown",
   "metadata": {},
   "source": [
    " # -------------------------------------PostgresSQL-------------------------------------"
   ]
  },
  {
   "cell_type": "code",
   "execution_count": null,
   "metadata": {},
   "outputs": [],
   "source": [
    "CREATE TABLE users (\n",
    "    id BIGINT NOT NULL PRIMARY KEY,\n",
    "    first_name VARCHAR(64) NOT NULL,\n",
    "    last_name VARCHAR(64) NOT NULL,\n",
    "    email VARCHAR(128) NOT NULL\n",
    ");\n",
    "\n"
   ]
  },
  {
   "cell_type": "code",
   "execution_count": null,
   "metadata": {},
   "outputs": [],
   "source": [
    "sudo systemctl status postgresql (checking postgresSQL status)\n",
    "sudo -i -u postgres (switch on postgres user)\n",
    "psql (opne console postgres)\n",
    "\\l (list of databases)\n",
    "\\q (exit)\n",
    "\\du (list of roles)\n",
    "dropdb <name_database> (delete database)\n",
    "ALTER USER <name_user> WITH PASSWORD '<new_password>'; (change password)\n",
    "CREATE USER <name_user> WITH PASSWORD '<new_password>'; (create new user)\n",
    "ALTER USER <name_user> WITH SUPERUSER: (grant superuser rights)\n",
    "DROP USER <name_user>;"
   ]
  }
 ],
 "metadata": {
  "language_info": {
   "name": "python"
  }
 },
 "nbformat": 4,
 "nbformat_minor": 2
}
