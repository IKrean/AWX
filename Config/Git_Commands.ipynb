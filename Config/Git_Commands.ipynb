{
 "cells": [
  {
   "cell_type": "markdown",
   "metadata": {},
   "source": [
    "# ———————————— GIT-Commands ————————————"
   ]
  },
  {
   "cell_type": "code",
   "execution_count": null,
   "metadata": {
    "vscode": {
     "languageId": "plaintext"
    }
   },
   "outputs": [],
   "source": [
    "git clone <https://github.com/....> (download repo. whith GitHub on PC)\n",
    "    git branch <name_branch> (create branch)\n",
    "    \n",
    "git checkout <name_branch> (switch on branch)\n",
    "    git merge <name_branch> (unite branch whith 'MASTER' or 'MAIN')"
   ]
  }
 ],
 "metadata": {
  "language_info": {
   "name": "python"
  }
 },
 "nbformat": 4,
 "nbformat_minor": 2
}
